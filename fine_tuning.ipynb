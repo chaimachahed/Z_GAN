{
  "nbformat": 4,
  "nbformat_minor": 0,
  "metadata": {
    "accelerator": "GPU",
    "colab": {
      "name": "fine_tuning.ipynb",
      "provenance": [],
      "collapsed_sections": [],
      "mount_file_id": "1H8r8c3lB6aYC6qszeJ6TtMYo-o8Fn3bC",
      "authorship_tag": "ABX9TyNrvAcPgjTnX3wfWUi6qO8D",
      "include_colab_link": true
    },
    "kernelspec": {
      "display_name": "Python 3",
      "name": "python3"
    },
    "language_info": {
      "name": "python"
    }
  },
  "cells": [
    {
      "cell_type": "markdown",
      "metadata": {
        "id": "view-in-github",
        "colab_type": "text"
      },
      "source": [
        "<a href=\"https://colab.research.google.com/github/chaimachahed/Z_GAN/blob/master/fine_tuning.ipynb\" target=\"_parent\"><img src=\"https://colab.research.google.com/assets/colab-badge.svg\" alt=\"Open In Colab\"/></a>"
      ]
    },
    {
      "cell_type": "code",
      "metadata": {
        "id": "eTaXBWLJbfy1",
        "colab": {
          "base_uri": "https://localhost:8080/"
        },
        "outputId": "ad35c8fb-5fc4-4c9b-9b1c-b6691fc68bdb"
      },
      "source": [
        "!git clone https://github.com/pytorch/vision "
      ],
      "execution_count": null,
      "outputs": [
        {
          "output_type": "stream",
          "name": "stdout",
          "text": [
            "Cloning into 'vision'...\n",
            "remote: Enumerating objects: 36907, done.\u001b[K\n",
            "remote: Counting objects: 100% (2406/2406), done.\u001b[K\n",
            "remote: Compressing objects: 100% (540/540), done.\u001b[K\n",
            "remote: Total 36907 (delta 1878), reused 2281 (delta 1818), pack-reused 34501\u001b[K\n",
            "Receiving objects: 100% (36907/36907), 49.21 MiB | 31.14 MiB/s, done.\n",
            "Resolving deltas: 100% (28409/28409), done.\n"
          ]
        }
      ]
    },
    {
      "cell_type": "code",
      "metadata": {
        "colab": {
          "background_save": true
        },
        "id": "_8HbEYrTQS30"
      },
      "source": [
        "%cd vision\n",
        "!python setup.py install"
      ],
      "execution_count": null,
      "outputs": []
    },
    {
      "cell_type": "code",
      "metadata": {
        "colab": {
          "background_save": true
        },
        "id": "3AGIXMaYbLgf"
      },
      "source": [
        "!pip install visdom\n",
        "!pip install dominate"
      ],
      "execution_count": null,
      "outputs": []
    },
    {
      "cell_type": "code",
      "metadata": {
        "id": "3s1Egx5IGx2t"
      },
      "source": [
        "!pwd\n",
        "%cd /content/drive/MyDrive"
      ],
      "execution_count": null,
      "outputs": []
    },
    {
      "cell_type": "code",
      "metadata": {
        "id": "cxJd5Tl_y2TC"
      },
      "source": [
        "%cp -r /content/drive/MyDrive/Z_GAN_/util /content/drive/MyDrive/finetuning"
      ],
      "execution_count": null,
      "outputs": []
    },
    {
      "cell_type": "code",
      "metadata": {
        "id": "qsxd80DBHDZt"
      },
      "source": [
        "%cp -r /content/drive/MyDrive/Z_GAN_/scripts /content/drive/MyDrive/finetuning"
      ],
      "execution_count": null,
      "outputs": []
    },
    {
      "cell_type": "code",
      "metadata": {
        "id": "0OJOYkVbJlP4"
      },
      "source": [
        "%cp -r /content/drive/MyDrive/Z_GAN/util /content/Z_GAN/util "
      ],
      "execution_count": null,
      "outputs": []
    },
    {
      "cell_type": "code",
      "metadata": {
        "id": "qr2ZwB0S17XQ"
      },
      "source": [
        "%cp -r /content/drive/MyDrive/Z_GAN_/models /content/drive/MyDrive/finetuning"
      ],
      "execution_count": null,
      "outputs": []
    },
    {
      "cell_type": "code",
      "metadata": {
        "id": "kj85TivA00Bc"
      },
      "source": [
        "%cp -r /content/drive/MyDrive/Z_GAN_/data /content/drive/MyDrive/finetuning"
      ],
      "execution_count": null,
      "outputs": []
    },
    {
      "cell_type": "code",
      "metadata": {
        "id": "fynOaoCfuTQj"
      },
      "source": [
        "%cp -r /content/drive/MyDrive/Z_GAN_/datasets /content/drive/MyDrive/finetuning"
      ],
      "execution_count": null,
      "outputs": []
    },
    {
      "cell_type": "code",
      "metadata": {
        "id": "5iD-ZkdRuxjY"
      },
      "source": [
        "%cd /content/drive/MyDrive/finetuning/datasets"
      ],
      "execution_count": null,
      "outputs": []
    },
    {
      "cell_type": "code",
      "metadata": {
        "id": "zQ7UB6hOuq-o"
      },
      "source": [
        "%mkdir mini"
      ],
      "execution_count": null,
      "outputs": []
    },
    {
      "cell_type": "code",
      "metadata": {
        "id": "mDx0ibg6US5_"
      },
      "source": [
        "%cp -r /content/drive/MyDrive/Z_GAN_Paestum/Z_GAN_Paestum/train /content/drive/MyDrive/finetuning/datasets/mini"
      ],
      "execution_count": null,
      "outputs": []
    },
    {
      "cell_type": "code",
      "metadata": {
        "id": "eT8k40ZCov6C"
      },
      "source": [
        "%cp -r /content/drive/MyDrive/Z_GAN_Paestum/Z_GAN_Paestum/test /content/drive/MyDrive/finetuning/datasets/mini"
      ],
      "execution_count": null,
      "outputs": []
    },
    {
      "cell_type": "code",
      "metadata": {
        "id": "IXGVNUPhzueL"
      },
      "source": [
        "%cp /content/drive/MyDrive/Z_GAN_/train.py /content/drive/MyDrive/finetuning"
      ],
      "execution_count": null,
      "outputs": []
    },
    {
      "cell_type": "code",
      "metadata": {
        "id": "X4GmBtQKEL7g"
      },
      "source": [
        "%cp /content/drive/MyDrive/Z_GAN_/test.py /content/drive/MyDrive/finetuning"
      ],
      "execution_count": null,
      "outputs": []
    },
    {
      "cell_type": "code",
      "metadata": {
        "colab": {
          "base_uri": "https://localhost:8080/"
        },
        "id": "ZAEp7ENPyjG5",
        "outputId": "2b36cc9e-be20-4135-ea6a-9ce3e407e00d"
      },
      "source": [
        "%cd /content/drive/MyDrive/finetuning"
      ],
      "execution_count": null,
      "outputs": [
        {
          "name": "stdout",
          "output_type": "stream",
          "text": [
            "/content/drive/MyDrive/finetuning\n"
          ]
        }
      ]
    },
    {
      "cell_type": "code",
      "metadata": {
        "colab": {
          "background_save": true
        },
        "id": "S6DkyyTvv7hR",
        "outputId": "e8257a2e-ca72-4395-9b6f-bd3edee1dbd4"
      },
      "source": [
        "!bash /content/drive/MyDrive/finetuning/scripts/train_zgan.sh"
      ],
      "execution_count": null,
      "outputs": [
        {
          "name": "stdout",
          "output_type": "stream",
          "text": [
            "python3: can't open file 'train.py': [Errno 2] No such file or directory\n"
          ]
        }
      ]
    },
    {
      "cell_type": "code",
      "metadata": {
        "colab": {
          "base_uri": "https://localhost:8080/"
        },
        "id": "wTGLQOdVyyLs",
        "outputId": "13287de1-3c3f-484e-c8ca-b0c54c25f7a4"
      },
      "source": [
        "!bash /content/drive/MyDrive/finetuning/scripts/test_zgan.sh"
      ],
      "execution_count": null,
      "outputs": [
        {
          "name": "stdout",
          "output_type": "stream",
          "text": [
            "------------ Options -------------\n",
            "aspect_ratio: 1.0\n",
            "batchSize: 1\n",
            "checkpoints_dir: ./checkpoints\n",
            "dataroot: ./datasets/mini\n",
            "dataset_mode: fruxel\n",
            "display_id: 1\n",
            "display_port: 8097\n",
            "display_winsize: 256\n",
            "fineSize: 256\n",
            "gpu_ids: [0]\n",
            "how_many: 412\n",
            "init_type: normal\n",
            "input_nc: 3\n",
            "isTrain: False\n",
            "loadSize: 256\n",
            "max_dataset_size: inf\n",
            "model: z_gan\n",
            "nThreads: 2\n",
            "n_layers_D: 4\n",
            "name: z_gan\n",
            "ndf: 32\n",
            "ngf: 32\n",
            "no_dropout: False\n",
            "no_flip: False\n",
            "norm: batch\n",
            "ntest: inf\n",
            "output_nc: 1\n",
            "phase: test\n",
            "resize_or_crop: resize_and_crop\n",
            "results_dir: ./results/\n",
            "serial_batches: False\n",
            "which_direction: AtoB\n",
            "which_epoch: latest\n",
            "which_model_netD: basic_z\n",
            "which_model_netG: znet_256\n",
            "-------------- End ----------------\n",
            "CustomDatasetDataLoader\n",
            "dataset [FruxelDataset] was created\n",
            "FruxelDataset\n",
            "z_gan\n",
            "initialization method [normal]\n",
            "/content/drive/My Drive/finetuning/models/networks.py:16: UserWarning: nn.init.normal is now deprecated in favor of nn.init.normal_.\n",
            "  init.normal(m.weight.data, 0.0, 0.02)\n",
            "/content/drive/My Drive/finetuning/models/networks.py:20: UserWarning: nn.init.normal is now deprecated in favor of nn.init.normal_.\n",
            "  init.normal(m.weight.data, 1.0, 0.02)\n",
            "/content/drive/My Drive/finetuning/models/networks.py:21: UserWarning: nn.init.constant is now deprecated in favor of nn.init.constant_.\n",
            "  init.constant(m.bias.data, 0.0)\n",
            "---------- Networks initialized -------------\n",
            "ZnetGenerator(\n",
            "  (model): ZnetSkipConnectionBlock(\n",
            "    (model): Sequential(\n",
            "      (0): Conv2d(3, 32, kernel_size=(4, 4), stride=(2, 2), padding=(1, 1), bias=False)\n",
            "      (1): ZnetSkipConnectionBlock(\n",
            "        (model): Sequential(\n",
            "          (0): LeakyReLU(negative_slope=0.2)\n",
            "          (1): Conv2d(32, 64, kernel_size=(4, 4), stride=(2, 2), padding=(1, 1), bias=False)\n",
            "          (2): BatchNorm2d(64, eps=1e-05, momentum=0.1, affine=True, track_running_stats=True)\n",
            "          (3): ZnetSkipConnectionBlock(\n",
            "            (model): Sequential(\n",
            "              (0): LeakyReLU(negative_slope=0.2)\n",
            "              (1): Conv2d(64, 128, kernel_size=(4, 4), stride=(2, 2), padding=(1, 1), bias=False)\n",
            "              (2): BatchNorm2d(128, eps=1e-05, momentum=0.1, affine=True, track_running_stats=True)\n",
            "              (3): ZnetSkipConnectionBlock(\n",
            "                (model): Sequential(\n",
            "                  (0): LeakyReLU(negative_slope=0.2)\n",
            "                  (1): Conv2d(128, 256, kernel_size=(4, 4), stride=(2, 2), padding=(1, 1), bias=False)\n",
            "                  (2): BatchNorm2d(256, eps=1e-05, momentum=0.1, affine=True, track_running_stats=True)\n",
            "                  (3): ZnetSkipConnectionBlock(\n",
            "                    (model): Sequential(\n",
            "                      (0): LeakyReLU(negative_slope=0.2)\n",
            "                      (1): Conv2d(256, 256, kernel_size=(4, 4), stride=(2, 2), padding=(1, 1), bias=False)\n",
            "                      (2): BatchNorm2d(256, eps=1e-05, momentum=0.1, affine=True, track_running_stats=True)\n",
            "                      (3): ZnetSkipConnectionBlock(\n",
            "                        (model): Sequential(\n",
            "                          (0): LeakyReLU(negative_slope=0.2)\n",
            "                          (1): Conv2d(256, 256, kernel_size=(4, 4), stride=(2, 2), padding=(1, 1), bias=False)\n",
            "                          (2): BatchNorm2d(256, eps=1e-05, momentum=0.1, affine=True, track_running_stats=True)\n",
            "                          (3): ZnetSkipConnectionBlock(\n",
            "                            (model): Sequential(\n",
            "                              (0): LeakyReLU(negative_slope=0.2)\n",
            "                              (1): Conv2d(256, 256, kernel_size=(4, 4), stride=(2, 2), padding=(1, 1), bias=False)\n",
            "                              (2): BatchNorm2d(256, eps=1e-05, momentum=0.1, affine=True, track_running_stats=True)\n",
            "                              (3): ZnetSkipConnectionBlock(\n",
            "                                (model): Sequential(\n",
            "                                  (0): LeakyReLU(negative_slope=0.2)\n",
            "                                  (1): Conv2d(256, 256, kernel_size=(4, 4), stride=(2, 2), padding=(1, 1), bias=False)\n",
            "                                  (2): View()\n",
            "                                  (3): ReLU()\n",
            "                                  (4): ConvTranspose3d(256, 256, kernel_size=(4, 4, 4), stride=(2, 2, 2), padding=(1, 1, 1), bias=False)\n",
            "                                  (5): BatchNorm3d(256, eps=1e-05, momentum=0.1, affine=True, track_running_stats=True)\n",
            "                                )\n",
            "                              )\n",
            "                              (4): ReLU()\n",
            "                              (5): ConvTranspose3d(512, 256, kernel_size=(4, 4, 4), stride=(2, 2, 2), padding=(1, 1, 1), bias=False)\n",
            "                              (6): BatchNorm3d(256, eps=1e-05, momentum=0.1, affine=True, track_running_stats=True)\n",
            "                              (7): Dropout(p=0.5, inplace=False)\n",
            "                            )\n",
            "                          )\n",
            "                          (4): ReLU()\n",
            "                          (5): ConvTranspose3d(512, 256, kernel_size=(4, 4, 4), stride=(2, 2, 2), padding=(1, 1, 1), bias=False)\n",
            "                          (6): BatchNorm3d(256, eps=1e-05, momentum=0.1, affine=True, track_running_stats=True)\n",
            "                          (7): Dropout(p=0.5, inplace=False)\n",
            "                        )\n",
            "                      )\n",
            "                      (4): ReLU()\n",
            "                      (5): ConvTranspose3d(512, 256, kernel_size=(4, 4, 4), stride=(2, 2, 2), padding=(1, 1, 1), bias=False)\n",
            "                      (6): BatchNorm3d(256, eps=1e-05, momentum=0.1, affine=True, track_running_stats=True)\n",
            "                      (7): Dropout(p=0.5, inplace=False)\n",
            "                    )\n",
            "                  )\n",
            "                  (4): ReLU()\n",
            "                  (5): ConvTranspose3d(512, 128, kernel_size=(4, 4, 4), stride=(2, 2, 2), padding=(1, 1, 1), bias=False)\n",
            "                  (6): BatchNorm3d(128, eps=1e-05, momentum=0.1, affine=True, track_running_stats=True)\n",
            "                )\n",
            "              )\n",
            "              (4): ReLU()\n",
            "              (5): ConvTranspose3d(256, 64, kernel_size=(4, 4, 4), stride=(2, 2, 2), padding=(1, 1, 1), bias=False)\n",
            "              (6): BatchNorm3d(64, eps=1e-05, momentum=0.1, affine=True, track_running_stats=True)\n",
            "            )\n",
            "          )\n",
            "          (4): ReLU()\n",
            "          (5): ConvTranspose3d(128, 32, kernel_size=(4, 4, 4), stride=(2, 2, 2), padding=(1, 1, 1), bias=False)\n",
            "          (6): BatchNorm3d(32, eps=1e-05, momentum=0.1, affine=True, track_running_stats=True)\n",
            "        )\n",
            "      )\n",
            "      (2): ReLU()\n",
            "      (3): ConvTranspose3d(64, 1, kernel_size=(1, 1, 1), stride=(1, 1, 1))\n",
            "      (4): Tanh()\n",
            "    )\n",
            "  )\n",
            ")\n",
            "Total number of parameters: 39754113\n",
            "-----------------------------------------------\n",
            "model [Z_GANModel] was created\n",
            "Setting up a new session...\n",
            "Exception in user code:\n",
            "------------------------------------------------------------\n",
            "Traceback (most recent call last):\n",
            "  File \"/usr/local/lib/python3.7/dist-packages/urllib3/connection.py\", line 159, in _new_conn\n",
            "    (self._dns_host, self.port), self.timeout, **extra_kw)\n",
            "  File \"/usr/local/lib/python3.7/dist-packages/urllib3/util/connection.py\", line 80, in create_connection\n",
            "    raise err\n",
            "  File \"/usr/local/lib/python3.7/dist-packages/urllib3/util/connection.py\", line 70, in create_connection\n",
            "    sock.connect(sa)\n",
            "ConnectionRefusedError: [Errno 111] Connection refused\n",
            "\n",
            "During handling of the above exception, another exception occurred:\n",
            "\n",
            "Traceback (most recent call last):\n",
            "  File \"/usr/local/lib/python3.7/dist-packages/urllib3/connectionpool.py\", line 600, in urlopen\n",
            "    chunked=chunked)\n",
            "  File \"/usr/local/lib/python3.7/dist-packages/urllib3/connectionpool.py\", line 354, in _make_request\n",
            "    conn.request(method, url, **httplib_request_kw)\n",
            "  File \"/usr/lib/python3.7/http/client.py\", line 1281, in request\n",
            "    self._send_request(method, url, body, headers, encode_chunked)\n",
            "  File \"/usr/lib/python3.7/http/client.py\", line 1327, in _send_request\n",
            "    self.endheaders(body, encode_chunked=encode_chunked)\n",
            "  File \"/usr/lib/python3.7/http/client.py\", line 1276, in endheaders\n",
            "    self._send_output(message_body, encode_chunked=encode_chunked)\n",
            "  File \"/usr/lib/python3.7/http/client.py\", line 1036, in _send_output\n",
            "    self.send(msg)\n",
            "  File \"/usr/lib/python3.7/http/client.py\", line 976, in send\n",
            "    self.connect()\n",
            "  File \"/usr/local/lib/python3.7/dist-packages/urllib3/connection.py\", line 181, in connect\n",
            "    conn = self._new_conn()\n",
            "  File \"/usr/local/lib/python3.7/dist-packages/urllib3/connection.py\", line 168, in _new_conn\n",
            "    self, \"Failed to establish a new connection: %s\" % e)\n",
            "urllib3.exceptions.NewConnectionError: <urllib3.connection.HTTPConnection object at 0x7fc7f2449e50>: Failed to establish a new connection: [Errno 111] Connection refused\n",
            "\n",
            "During handling of the above exception, another exception occurred:\n",
            "\n",
            "Traceback (most recent call last):\n",
            "  File \"/usr/local/lib/python3.7/dist-packages/requests/adapters.py\", line 449, in send\n",
            "    timeout=timeout\n",
            "  File \"/usr/local/lib/python3.7/dist-packages/urllib3/connectionpool.py\", line 638, in urlopen\n",
            "    _stacktrace=sys.exc_info()[2])\n",
            "  File \"/usr/local/lib/python3.7/dist-packages/urllib3/util/retry.py\", line 399, in increment\n",
            "    raise MaxRetryError(_pool, url, error or ResponseError(cause))\n",
            "urllib3.exceptions.MaxRetryError: HTTPConnectionPool(host='localhost', port=8097): Max retries exceeded with url: /env/main (Caused by NewConnectionError('<urllib3.connection.HTTPConnection object at 0x7fc7f2449e50>: Failed to establish a new connection: [Errno 111] Connection refused'))\n",
            "\n",
            "During handling of the above exception, another exception occurred:\n",
            "\n",
            "Traceback (most recent call last):\n",
            "  File \"/usr/local/lib/python3.7/dist-packages/visdom/__init__.py\", line 711, in _send\n",
            "    data=json.dumps(msg),\n",
            "  File \"/usr/local/lib/python3.7/dist-packages/visdom/__init__.py\", line 677, in _handle_post\n",
            "    r = self.session.post(url, data=data)\n",
            "  File \"/usr/local/lib/python3.7/dist-packages/requests/sessions.py\", line 578, in post\n",
            "    return self.request('POST', url, data=data, json=json, **kwargs)\n",
            "  File \"/usr/local/lib/python3.7/dist-packages/requests/sessions.py\", line 530, in request\n",
            "    resp = self.send(prep, **send_kwargs)\n",
            "  File \"/usr/local/lib/python3.7/dist-packages/requests/sessions.py\", line 643, in send\n",
            "    r = adapter.send(request, **kwargs)\n",
            "  File \"/usr/local/lib/python3.7/dist-packages/requests/adapters.py\", line 516, in send\n",
            "    raise ConnectionError(e, request=request)\n",
            "requests.exceptions.ConnectionError: HTTPConnectionPool(host='localhost', port=8097): Max retries exceeded with url: /env/main (Caused by NewConnectionError('<urllib3.connection.HTTPConnection object at 0x7fc7f2449e50>: Failed to establish a new connection: [Errno 111] Connection refused'))\n",
            "[Errno 99] Cannot assign requested address\n",
            "on_close() takes 1 positional argument but 3 were given\n",
            "[Errno 99] Cannot assign requested address\n",
            "on_close() takes 1 positional argument but 3 were given\n",
            "[Errno 99] Cannot assign requested address\n",
            "on_close() takes 1 positional argument but 3 were given\n",
            "Visdom python client failed to establish socket to get messages from the server. This feature is optional and can be disabled by initializing Visdom with `use_incoming_socket=False`, which will prevent waiting for this request to timeout.\n",
            "/content/drive/My Drive/finetuning/models/z_gan_model.py:75: UserWarning: volatile was removed and now has no effect. Use `with torch.no_grad():` instead.\n",
            "  self.real_A = Variable(self.input_A, volatile=True)\n",
            "/content/drive/My Drive/finetuning/models/z_gan_model.py:77: UserWarning: volatile was removed and now has no effect. Use `with torch.no_grad():` instead.\n",
            "  self.real_B = Variable(self.input_B, volatile=True)\n",
            "0000: process image... ['./datasets/mini/test/ColorImages/0018.png']\n",
            "[Errno 99] Cannot assign requested address\n",
            "on_close() takes 1 positional argument but 3 were given\n",
            "0001: process image... ['./datasets/mini/test/ColorImages/0023.png']\n",
            "[Errno 99] Cannot assign requested address\n",
            "on_close() takes 1 positional argument but 3 were given\n",
            "0002: process image... ['./datasets/mini/test/ColorImages/0024.png']\n",
            "0003: process image... ['./datasets/mini/test/ColorImages/0025.png']\n",
            "[Errno 99] Cannot assign requested address\n",
            "on_close() takes 1 positional argument but 3 were given\n",
            "0004: process image... ['./datasets/mini/test/ColorImages/0039.png']\n",
            "0005: process image... ['./datasets/mini/test/ColorImages/0055.png']\n",
            "[Errno 99] Cannot assign requested address\n",
            "on_close() takes 1 positional argument but 3 were given\n",
            "0006: process image... ['./datasets/mini/test/ColorImages/0057.png']\n",
            "[Errno 99] Cannot assign requested address\n",
            "on_close() takes 1 positional argument but 3 were given\n",
            "0007: process image... ['./datasets/mini/test/ColorImages/0065.png']\n",
            "0008: process image... ['./datasets/mini/test/ColorImages/0072.png']\n",
            "[Errno 99] Cannot assign requested address\n",
            "on_close() takes 1 positional argument but 3 were given\n",
            "0009: process image... ['./datasets/mini/test/ColorImages/0073.png']\n",
            "[Errno 99] Cannot assign requested address\n",
            "on_close() takes 1 positional argument but 3 were given\n",
            "0010: process image... ['./datasets/mini/test/ColorImages/0074.png']\n",
            "[Errno 99] Cannot assign requested address\n",
            "on_close() takes 1 positional argument but 3 were given\n",
            "0011: process image... ['./datasets/mini/test/ColorImages/0075.png']\n",
            "0012: process image... ['./datasets/mini/test/ColorImages/0076.png']\n",
            "[Errno 99] Cannot assign requested address\n",
            "on_close() takes 1 positional argument but 3 were given\n",
            "0013: process image... ['./datasets/mini/test/ColorImages/0077.png']\n",
            "0014: process image... ['./datasets/mini/test/ColorImages/0078.png']\n",
            "[Errno 99] Cannot assign requested address\n",
            "on_close() takes 1 positional argument but 3 were given\n",
            "0015: process image... ['./datasets/mini/test/ColorImages/0079.png']\n",
            "[Errno 99] Cannot assign requested address\n",
            "on_close() takes 1 positional argument but 3 were given\n",
            "0016: process image... ['./datasets/mini/test/ColorImages/0080.png']\n",
            "0017: process image... ['./datasets/mini/test/ColorImages/0081.png']\n",
            "[Errno 99] Cannot assign requested address\n",
            "on_close() takes 1 positional argument but 3 were given\n"
          ]
        }
      ]
    }
  ]
}